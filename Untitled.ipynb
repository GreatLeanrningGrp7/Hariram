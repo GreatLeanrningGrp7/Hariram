{
 "cells": [
  {
   "cell_type": "code",
   "execution_count": 1,
   "metadata": {},
   "outputs": [],
   "source": [
    "import numpy as np\n",
    "import pandas as pd\n",
    "import matplotlib.pyplot as plt\n",
    "%matplotlib inline\n",
    "import seaborn as sns\n",
    "from sklearn.impute import SimpleImputer\n",
    "# Basic packages\n",
    "import seaborn as sns\n",
    "from scipy import stats; from scipy.stats import zscore, norm, randint\n",
    "\n",
    "# Models\n",
    "from sklearn.model_selection import train_test_split, GridSearchCV, StratifiedKFold, cross_val_score, learning_curve\n",
    "from wordcloud import WordCloud, STOPWORDS\n"
   ]
  },
  {
   "cell_type": "code",
   "execution_count": 2,
   "metadata": {},
   "outputs": [
    {
     "data": {
      "text/html": [
       "<div>\n",
       "<style scoped>\n",
       "    .dataframe tbody tr th:only-of-type {\n",
       "        vertical-align: middle;\n",
       "    }\n",
       "\n",
       "    .dataframe tbody tr th {\n",
       "        vertical-align: top;\n",
       "    }\n",
       "\n",
       "    .dataframe thead th {\n",
       "        text-align: right;\n",
       "    }\n",
       "</style>\n",
       "<table border=\"1\" class=\"dataframe\">\n",
       "  <thead>\n",
       "    <tr style=\"text-align: right;\">\n",
       "      <th></th>\n",
       "      <th>Unnamed: 0</th>\n",
       "      <th>Data</th>\n",
       "      <th>Countries</th>\n",
       "      <th>Local</th>\n",
       "      <th>Industry Sector</th>\n",
       "      <th>Accident Level</th>\n",
       "      <th>Potential Accident Level</th>\n",
       "      <th>Genre</th>\n",
       "      <th>Employee or Third Party</th>\n",
       "      <th>Critical Risk</th>\n",
       "      <th>Description</th>\n",
       "    </tr>\n",
       "  </thead>\n",
       "  <tbody>\n",
       "    <tr>\n",
       "      <th>0</th>\n",
       "      <td>0</td>\n",
       "      <td>2016-01-01 00:00:00</td>\n",
       "      <td>Country_01</td>\n",
       "      <td>Local_01</td>\n",
       "      <td>Mining</td>\n",
       "      <td>I</td>\n",
       "      <td>IV</td>\n",
       "      <td>Male</td>\n",
       "      <td>Third Party</td>\n",
       "      <td>Pressed</td>\n",
       "      <td>While removing the drill rod of the Jumbo 08 f...</td>\n",
       "    </tr>\n",
       "    <tr>\n",
       "      <th>1</th>\n",
       "      <td>1</td>\n",
       "      <td>2016-01-02 00:00:00</td>\n",
       "      <td>Country_02</td>\n",
       "      <td>Local_02</td>\n",
       "      <td>Mining</td>\n",
       "      <td>I</td>\n",
       "      <td>IV</td>\n",
       "      <td>Male</td>\n",
       "      <td>Employee</td>\n",
       "      <td>Pressurized Systems</td>\n",
       "      <td>During the activation of a sodium sulphide pum...</td>\n",
       "    </tr>\n",
       "    <tr>\n",
       "      <th>2</th>\n",
       "      <td>2</td>\n",
       "      <td>2016-01-06 00:00:00</td>\n",
       "      <td>Country_01</td>\n",
       "      <td>Local_03</td>\n",
       "      <td>Mining</td>\n",
       "      <td>I</td>\n",
       "      <td>III</td>\n",
       "      <td>Male</td>\n",
       "      <td>Third Party (Remote)</td>\n",
       "      <td>Manual Tools</td>\n",
       "      <td>In the sub-station MILPO located at level +170...</td>\n",
       "    </tr>\n",
       "    <tr>\n",
       "      <th>3</th>\n",
       "      <td>3</td>\n",
       "      <td>2016-01-08 00:00:00</td>\n",
       "      <td>Country_01</td>\n",
       "      <td>Local_04</td>\n",
       "      <td>Mining</td>\n",
       "      <td>I</td>\n",
       "      <td>I</td>\n",
       "      <td>Male</td>\n",
       "      <td>Third Party</td>\n",
       "      <td>Others</td>\n",
       "      <td>Being 9:45 am. approximately in the Nv. 1880 C...</td>\n",
       "    </tr>\n",
       "    <tr>\n",
       "      <th>4</th>\n",
       "      <td>4</td>\n",
       "      <td>2016-01-10 00:00:00</td>\n",
       "      <td>Country_01</td>\n",
       "      <td>Local_04</td>\n",
       "      <td>Mining</td>\n",
       "      <td>IV</td>\n",
       "      <td>IV</td>\n",
       "      <td>Male</td>\n",
       "      <td>Third Party</td>\n",
       "      <td>Others</td>\n",
       "      <td>Approximately at 11:45 a.m. in circumstances t...</td>\n",
       "    </tr>\n",
       "  </tbody>\n",
       "</table>\n",
       "</div>"
      ],
      "text/plain": [
       "   Unnamed: 0                 Data   Countries     Local Industry Sector  \\\n",
       "0           0  2016-01-01 00:00:00  Country_01  Local_01          Mining   \n",
       "1           1  2016-01-02 00:00:00  Country_02  Local_02          Mining   \n",
       "2           2  2016-01-06 00:00:00  Country_01  Local_03          Mining   \n",
       "3           3  2016-01-08 00:00:00  Country_01  Local_04          Mining   \n",
       "4           4  2016-01-10 00:00:00  Country_01  Local_04          Mining   \n",
       "\n",
       "  Accident Level Potential Accident Level Genre Employee or Third Party  \\\n",
       "0              I                       IV  Male             Third Party   \n",
       "1              I                       IV  Male                Employee   \n",
       "2              I                      III  Male    Third Party (Remote)   \n",
       "3              I                        I  Male             Third Party   \n",
       "4             IV                       IV  Male             Third Party   \n",
       "\n",
       "         Critical Risk                                        Description  \n",
       "0              Pressed  While removing the drill rod of the Jumbo 08 f...  \n",
       "1  Pressurized Systems  During the activation of a sodium sulphide pum...  \n",
       "2         Manual Tools  In the sub-station MILPO located at level +170...  \n",
       "3               Others  Being 9:45 am. approximately in the Nv. 1880 C...  \n",
       "4               Others  Approximately at 11:45 a.m. in circumstances t...  "
      ]
     },
     "execution_count": 2,
     "metadata": {},
     "output_type": "execute_result"
    }
   ],
   "source": [
    "df_accident = pd.read_csv(\"IHMStefanini_industrial_safety_and_health_database_with_accidents_description.csv\")\n",
    "df_accident.head()\n"
   ]
  },
  {
   "cell_type": "code",
   "execution_count": 3,
   "metadata": {},
   "outputs": [
    {
     "data": {
      "text/html": [
       "<div>\n",
       "<style scoped>\n",
       "    .dataframe tbody tr th:only-of-type {\n",
       "        vertical-align: middle;\n",
       "    }\n",
       "\n",
       "    .dataframe tbody tr th {\n",
       "        vertical-align: top;\n",
       "    }\n",
       "\n",
       "    .dataframe thead th {\n",
       "        text-align: right;\n",
       "    }\n",
       "</style>\n",
       "<table border=\"1\" class=\"dataframe\">\n",
       "  <thead>\n",
       "    <tr style=\"text-align: right;\">\n",
       "      <th></th>\n",
       "      <th>Date</th>\n",
       "      <th>Country</th>\n",
       "      <th>Local</th>\n",
       "      <th>Industry Sector</th>\n",
       "      <th>Accident Level</th>\n",
       "      <th>Potential Accident Level</th>\n",
       "      <th>Gender</th>\n",
       "      <th>Employee type</th>\n",
       "      <th>Critical Risk</th>\n",
       "      <th>Description</th>\n",
       "    </tr>\n",
       "  </thead>\n",
       "  <tbody>\n",
       "    <tr>\n",
       "      <th>0</th>\n",
       "      <td>2016-01-01 00:00:00</td>\n",
       "      <td>Country_01</td>\n",
       "      <td>Local_01</td>\n",
       "      <td>Mining</td>\n",
       "      <td>I</td>\n",
       "      <td>IV</td>\n",
       "      <td>Male</td>\n",
       "      <td>Third Party</td>\n",
       "      <td>Pressed</td>\n",
       "      <td>While removing the drill rod of the Jumbo 08 f...</td>\n",
       "    </tr>\n",
       "    <tr>\n",
       "      <th>1</th>\n",
       "      <td>2016-01-02 00:00:00</td>\n",
       "      <td>Country_02</td>\n",
       "      <td>Local_02</td>\n",
       "      <td>Mining</td>\n",
       "      <td>I</td>\n",
       "      <td>IV</td>\n",
       "      <td>Male</td>\n",
       "      <td>Employee</td>\n",
       "      <td>Pressurized Systems</td>\n",
       "      <td>During the activation of a sodium sulphide pum...</td>\n",
       "    </tr>\n",
       "    <tr>\n",
       "      <th>2</th>\n",
       "      <td>2016-01-06 00:00:00</td>\n",
       "      <td>Country_01</td>\n",
       "      <td>Local_03</td>\n",
       "      <td>Mining</td>\n",
       "      <td>I</td>\n",
       "      <td>III</td>\n",
       "      <td>Male</td>\n",
       "      <td>Third Party (Remote)</td>\n",
       "      <td>Manual Tools</td>\n",
       "      <td>In the sub-station MILPO located at level +170...</td>\n",
       "    </tr>\n",
       "    <tr>\n",
       "      <th>3</th>\n",
       "      <td>2016-01-08 00:00:00</td>\n",
       "      <td>Country_01</td>\n",
       "      <td>Local_04</td>\n",
       "      <td>Mining</td>\n",
       "      <td>I</td>\n",
       "      <td>I</td>\n",
       "      <td>Male</td>\n",
       "      <td>Third Party</td>\n",
       "      <td>Others</td>\n",
       "      <td>Being 9:45 am. approximately in the Nv. 1880 C...</td>\n",
       "    </tr>\n",
       "    <tr>\n",
       "      <th>4</th>\n",
       "      <td>2016-01-10 00:00:00</td>\n",
       "      <td>Country_01</td>\n",
       "      <td>Local_04</td>\n",
       "      <td>Mining</td>\n",
       "      <td>IV</td>\n",
       "      <td>IV</td>\n",
       "      <td>Male</td>\n",
       "      <td>Third Party</td>\n",
       "      <td>Others</td>\n",
       "      <td>Approximately at 11:45 a.m. in circumstances t...</td>\n",
       "    </tr>\n",
       "  </tbody>\n",
       "</table>\n",
       "</div>"
      ],
      "text/plain": [
       "                  Date     Country     Local Industry Sector Accident Level  \\\n",
       "0  2016-01-01 00:00:00  Country_01  Local_01          Mining              I   \n",
       "1  2016-01-02 00:00:00  Country_02  Local_02          Mining              I   \n",
       "2  2016-01-06 00:00:00  Country_01  Local_03          Mining              I   \n",
       "3  2016-01-08 00:00:00  Country_01  Local_04          Mining              I   \n",
       "4  2016-01-10 00:00:00  Country_01  Local_04          Mining             IV   \n",
       "\n",
       "  Potential Accident Level Gender         Employee type        Critical Risk  \\\n",
       "0                       IV   Male           Third Party              Pressed   \n",
       "1                       IV   Male              Employee  Pressurized Systems   \n",
       "2                      III   Male  Third Party (Remote)         Manual Tools   \n",
       "3                        I   Male           Third Party               Others   \n",
       "4                       IV   Male           Third Party               Others   \n",
       "\n",
       "                                         Description  \n",
       "0  While removing the drill rod of the Jumbo 08 f...  \n",
       "1  During the activation of a sodium sulphide pum...  \n",
       "2  In the sub-station MILPO located at level +170...  \n",
       "3  Being 9:45 am. approximately in the Nv. 1880 C...  \n",
       "4  Approximately at 11:45 a.m. in circumstances t...  "
      ]
     },
     "execution_count": 3,
     "metadata": {},
     "output_type": "execute_result"
    }
   ],
   "source": [
    "df_accident.drop(\"Unnamed: 0\", axis=1, inplace=True)\n",
    "df_accident.rename(columns={'Data':'Date', 'Countries':'Country', 'Genre':'Gender', 'Employee or Third Party':'Employee type'}, inplace=True)\n",
    "df_accident.head()\n"
   ]
  },
  {
   "cell_type": "code",
   "execution_count": 4,
   "metadata": {},
   "outputs": [
    {
     "name": "stdout",
     "output_type": "stream",
     "text": [
      "<class 'pandas.core.frame.DataFrame'>\n",
      "RangeIndex: 425 entries, 0 to 424\n",
      "Data columns (total 10 columns):\n",
      " #   Column                    Non-Null Count  Dtype \n",
      "---  ------                    --------------  ----- \n",
      " 0   Date                      425 non-null    object\n",
      " 1   Country                   425 non-null    object\n",
      " 2   Local                     425 non-null    object\n",
      " 3   Industry Sector           425 non-null    object\n",
      " 4   Accident Level            425 non-null    object\n",
      " 5   Potential Accident Level  425 non-null    object\n",
      " 6   Gender                    425 non-null    object\n",
      " 7   Employee type             425 non-null    object\n",
      " 8   Critical Risk             425 non-null    object\n",
      " 9   Description               425 non-null    object\n",
      "dtypes: object(10)\n",
      "memory usage: 33.3+ KB\n"
     ]
    }
   ],
   "source": [
    "df_accident.info()\n"
   ]
  },
  {
   "cell_type": "code",
   "execution_count": 5,
   "metadata": {},
   "outputs": [
    {
     "name": "stdout",
     "output_type": "stream",
     "text": [
      "Unique values for Date is \n",
      "['2016-01-01 00:00:00' '2016-01-02 00:00:00' '2016-01-06 00:00:00'\n",
      " '2016-01-08 00:00:00' '2016-01-10 00:00:00' '2016-01-12 00:00:00'\n",
      " '2016-01-16 00:00:00' '2016-01-17 00:00:00' '2016-01-19 00:00:00'\n",
      " '2016-01-26 00:00:00' '2016-01-28 00:00:00' '2016-01-30 00:00:00'\n",
      " '2016-02-01 00:00:00' '2016-02-02 00:00:00' '2016-02-04 00:00:00'\n",
      " '2016-02-06 00:00:00' '2016-02-07 00:00:00' '2016-02-08 00:00:00'\n",
      " '2016-02-21 00:00:00' '2016-02-25 00:00:00' '2016-02-09 00:00:00'\n",
      " '2016-02-10 00:00:00' '2016-02-15 00:00:00' '2016-02-14 00:00:00'\n",
      " '2016-02-13 00:00:00' '2016-02-16 00:00:00' '2016-02-17 00:00:00'\n",
      " '2016-02-19 00:00:00' '2016-02-20 00:00:00' '2016-02-18 00:00:00'\n",
      " '2016-02-22 00:00:00' '2016-02-24 00:00:00' '2016-02-29 00:00:00'\n",
      " '2016-02-26 00:00:00' '2016-02-27 00:00:00' '2016-03-02 00:00:00'\n",
      " '2016-03-03 00:00:00' '2016-03-04 00:00:00' '2016-03-05 00:00:00'\n",
      " '2016-03-06 00:00:00' '2016-03-09 00:00:00' '2016-03-11 00:00:00'\n",
      " '2016-03-13 00:00:00' '2016-03-12 00:00:00' '2016-03-14 00:00:00'\n",
      " '2016-03-16 00:00:00' '2016-03-10 00:00:00' '2016-03-17 00:00:00'\n",
      " '2016-03-18 00:00:00' '2016-03-19 00:00:00' '2016-03-22 00:00:00'\n",
      " '2016-03-25 00:00:00' '2016-03-30 00:00:00' '2016-03-31 00:00:00'\n",
      " '2016-04-01 00:00:00' '2016-04-03 00:00:00' '2016-04-02 00:00:00'\n",
      " '2016-03-24 00:00:00' '2016-04-04 00:00:00' '2016-04-05 00:00:00'\n",
      " '2016-04-07 00:00:00' '2016-04-08 00:00:00' '2016-04-11 00:00:00'\n",
      " '2016-04-14 00:00:00' '2016-04-16 00:00:00' '2016-04-15 00:00:00'\n",
      " '2016-04-17 00:00:00' '2016-04-18 00:00:00' '2016-04-21 00:00:00'\n",
      " '2016-04-22 00:00:00' '2016-04-23 00:00:00' '2016-04-26 00:00:00'\n",
      " '2016-04-28 00:00:00' '2016-04-29 00:00:00' '2016-04-30 00:00:00'\n",
      " '2016-05-01 00:00:00' '2016-05-02 00:00:00' '2016-05-04 00:00:00'\n",
      " '2016-05-03 00:00:00' '2016-05-05 00:00:00' '2016-05-11 00:00:00'\n",
      " '2016-05-12 00:00:00' '2016-05-14 00:00:00' '2016-05-17 00:00:00'\n",
      " '2016-05-19 00:00:00' '2016-05-18 00:00:00' '2016-05-22 00:00:00'\n",
      " '2016-05-20 00:00:00' '2016-05-24 00:00:00' '2016-05-25 00:00:00'\n",
      " '2016-05-27 00:00:00' '2016-05-26 00:00:00' '2016-06-01 00:00:00'\n",
      " '2016-06-02 00:00:00' '2016-06-03 00:00:00' '2016-06-04 00:00:00'\n",
      " '2016-06-05 00:00:00' '2016-06-08 00:00:00' '2016-06-07 00:00:00'\n",
      " '2016-06-10 00:00:00' '2016-06-13 00:00:00' '2016-06-16 00:00:00'\n",
      " '2016-06-18 00:00:00' '2016-06-17 00:00:00' '2016-06-19 00:00:00'\n",
      " '2016-06-21 00:00:00' '2016-06-22 00:00:00' '2016-06-23 00:00:00'\n",
      " '2016-06-24 00:00:00' '2016-06-29 00:00:00' '2016-07-02 00:00:00'\n",
      " '2016-07-04 00:00:00' '2016-07-08 00:00:00' '2016-07-07 00:00:00'\n",
      " '2016-07-09 00:00:00' '2016-07-10 00:00:00' '2016-07-11 00:00:00'\n",
      " '2016-07-14 00:00:00' '2016-07-15 00:00:00' '2016-07-16 00:00:00'\n",
      " '2016-07-18 00:00:00' '2016-07-20 00:00:00' '2016-07-21 00:00:00'\n",
      " '2016-07-23 00:00:00' '2016-07-27 00:00:00' '2016-07-29 00:00:00'\n",
      " '2016-07-30 00:00:00' '2016-08-02 00:00:00' '2016-08-01 00:00:00'\n",
      " '2016-08-04 00:00:00' '2016-08-11 00:00:00' '2016-08-12 00:00:00'\n",
      " '2016-08-14 00:00:00' '2016-08-15 00:00:00' '2016-08-18 00:00:00'\n",
      " '2016-08-19 00:00:00' '2016-08-22 00:00:00' '2016-08-24 00:00:00'\n",
      " '2016-08-25 00:00:00' '2016-08-29 00:00:00' '2016-08-27 00:00:00'\n",
      " '2016-08-30 00:00:00' '2016-09-01 00:00:00' '2016-09-02 00:00:00'\n",
      " '2016-09-04 00:00:00' '2016-09-03 00:00:00' '2016-09-06 00:00:00'\n",
      " '2016-09-05 00:00:00' '2016-09-13 00:00:00' '2016-09-12 00:00:00'\n",
      " '2016-09-15 00:00:00' '2016-09-17 00:00:00' '2016-09-16 00:00:00'\n",
      " '2016-09-20 00:00:00' '2016-09-21 00:00:00' '2016-09-22 00:00:00'\n",
      " '2016-09-27 00:00:00' '2016-09-29 00:00:00' '2016-09-30 00:00:00'\n",
      " '2016-10-01 00:00:00' '2016-10-03 00:00:00' '2016-10-04 00:00:00'\n",
      " '2016-10-08 00:00:00' '2016-10-10 00:00:00' '2016-10-11 00:00:00'\n",
      " '2016-10-13 00:00:00' '2016-10-18 00:00:00' '2016-10-20 00:00:00'\n",
      " '2016-10-23 00:00:00' '2016-10-24 00:00:00' '2016-10-26 00:00:00'\n",
      " '2016-10-27 00:00:00' '2016-10-29 00:00:00' '2016-11-04 00:00:00'\n",
      " '2016-11-08 00:00:00' '2016-11-11 00:00:00' '2016-11-13 00:00:00'\n",
      " '2016-11-19 00:00:00' '2016-11-21 00:00:00' '2016-11-23 00:00:00'\n",
      " '2016-11-25 00:00:00' '2016-11-28 00:00:00' '2016-11-29 00:00:00'\n",
      " '2016-11-30 00:00:00' '2016-12-01 00:00:00' '2016-12-08 00:00:00'\n",
      " '2016-12-09 00:00:00' '2016-12-10 00:00:00' '2016-12-12 00:00:00'\n",
      " '2016-12-13 00:00:00' '2016-12-15 00:00:00' '2016-12-16 00:00:00'\n",
      " '2016-12-19 00:00:00' '2016-12-23 00:00:00' '2016-12-22 00:00:00'\n",
      " '2016-12-26 00:00:00' '2016-12-28 00:00:00' '2016-12-30 00:00:00'\n",
      " '2016-12-31 00:00:00' '2017-01-02 00:00:00' '2017-01-05 00:00:00'\n",
      " '2017-01-06 00:00:00' '2017-01-07 00:00:00' '2017-01-08 00:00:00'\n",
      " '2017-01-09 00:00:00' '2017-01-10 00:00:00' '2017-01-12 00:00:00'\n",
      " '2017-01-14 00:00:00' '2017-01-17 00:00:00' '2017-01-20 00:00:00'\n",
      " '2017-01-21 00:00:00' '2017-01-23 00:00:00' '2017-01-24 00:00:00'\n",
      " '2017-01-25 00:00:00' '2017-01-27 00:00:00' '2017-01-29 00:00:00'\n",
      " '2017-01-28 00:00:00' '2017-01-31 00:00:00' '2017-02-01 00:00:00'\n",
      " '2017-02-04 00:00:00' '2017-02-05 00:00:00' '2017-02-07 00:00:00'\n",
      " '2017-02-08 00:00:00' '2017-02-09 00:00:00' '2017-02-13 00:00:00'\n",
      " '2017-02-14 00:00:00' '2017-02-15 00:00:00' '2017-02-16 00:00:00'\n",
      " '2017-02-17 00:00:00' '2017-02-23 00:00:00' '2017-02-25 00:00:00'\n",
      " '2017-02-26 00:00:00' '2017-02-27 00:00:00' '2017-03-01 00:00:00'\n",
      " '2017-03-02 00:00:00' '2017-03-04 00:00:00' '2017-03-06 00:00:00'\n",
      " '2017-03-08 00:00:00' '2017-03-09 00:00:00' '2017-03-10 00:00:00'\n",
      " '2017-03-15 00:00:00' '2017-03-18 00:00:00' '2017-03-22 00:00:00'\n",
      " '2017-03-25 00:00:00' '2017-03-31 00:00:00' '2017-04-04 00:00:00'\n",
      " '2017-04-05 00:00:00' '2017-04-07 00:00:00' '2017-04-06 00:00:00'\n",
      " '2017-04-10 00:00:00' '2017-04-08 00:00:00' '2017-04-11 00:00:00'\n",
      " '2017-04-13 00:00:00' '2017-04-12 00:00:00' '2017-04-23 00:00:00'\n",
      " '2017-04-19 00:00:00' '2017-04-25 00:00:00' '2017-04-24 00:00:00'\n",
      " '2017-04-28 00:00:00' '2017-04-29 00:00:00' '2017-04-30 00:00:00'\n",
      " '2017-05-05 00:00:00' '2017-05-06 00:00:00' '2017-05-10 00:00:00'\n",
      " '2017-05-16 00:00:00' '2017-05-17 00:00:00' '2017-05-18 00:00:00'\n",
      " '2017-05-19 00:00:00' '2017-05-23 00:00:00' '2017-05-30 00:00:00'\n",
      " '2017-06-04 00:00:00' '2017-06-09 00:00:00' '2017-06-11 00:00:00'\n",
      " '2017-06-14 00:00:00' '2017-06-15 00:00:00' '2017-06-17 00:00:00'\n",
      " '2017-06-18 00:00:00' '2017-06-24 00:00:00' '2017-06-20 00:00:00'\n",
      " '2017-06-23 00:00:00' '2017-06-19 00:00:00' '2017-06-22 00:00:00'\n",
      " '2017-06-29 00:00:00' '2017-07-04 00:00:00' '2017-07-05 00:00:00'\n",
      " '2017-07-06 00:00:00' '2017-07-09 00:00:00']\n",
      "\n",
      "Unique values for Country is \n",
      "['Country_01' 'Country_02' 'Country_03']\n",
      "\n",
      "Unique values for Local is \n",
      "['Local_01' 'Local_02' 'Local_03' 'Local_04' 'Local_05' 'Local_06'\n",
      " 'Local_07' 'Local_08' 'Local_10' 'Local_09' 'Local_11' 'Local_12']\n",
      "\n",
      "Unique values for Industry Sector is \n",
      "['Mining' 'Metals' 'Others']\n",
      "\n",
      "Unique values for Accident Level is \n",
      "['I' 'IV' 'III' 'II' 'V']\n",
      "\n",
      "Unique values for Potential Accident Level is \n",
      "['IV' 'III' 'I' 'II' 'V' 'VI']\n",
      "\n",
      "Unique values for Gender is \n",
      "['Male' 'Female']\n",
      "\n",
      "Unique values for Employee type is \n",
      "['Third Party' 'Employee' 'Third Party (Remote)']\n",
      "\n",
      "Unique values for Critical Risk is \n",
      "['Pressed' 'Pressurized Systems' 'Manual Tools' 'Others'\n",
      " 'Fall prevention (same level)' 'Chemical substances' 'Liquid Metal'\n",
      " 'Electrical installation' 'Confined space'\n",
      " 'Pressurized Systems / Chemical Substances'\n",
      " 'Blocking and isolation of energies' 'Suspended Loads' 'Poll' 'Cut'\n",
      " 'Fall' 'Bees' 'Fall prevention' '\\nNot applicable' 'Traffic' 'Projection'\n",
      " 'Venomous Animals' 'Plates' 'Projection/Burning' 'remains of choco'\n",
      " 'Vehicles and Mobile Equipment' 'Projection/Choco' 'Machine Protection'\n",
      " 'Power lock' 'Burn' 'Projection/Manual Tools'\n",
      " 'Individual protection equipment' 'Electrical Shock'\n",
      " 'Projection of fragments']\n",
      "\n"
     ]
    }
   ],
   "source": [
    "columns = df_accident[df_accident.columns[~df_accident.columns.isin(['Description', 'Unnamed: 0', 'Data'])]].columns.tolist()\n",
    "for cols in columns:\n",
    "    print(f'Unique values for {cols} is \\n{df_accident[cols].unique()}\\n')\n"
   ]
  },
  {
   "cell_type": "code",
   "execution_count": 6,
   "metadata": {},
   "outputs": [],
   "source": [
    "replace_struc = {'Local_01': 1, 'Local_02': 2, 'Local_03': 3, 'Local_04': 4, 'Local_05': 5, 'Local_06': 6, 'Local_07': 7, 'Local_08': 8, 'Local_09': 9, 'Local_10': 10, 'Local_11': 11, 'Local_12': 12}\n",
    "df_accident['Local'] = df_accident['Local'].map(replace_struc)\n",
    "replace_struc = {'I': 0, 'II': 1, 'III': 2, 'IV': 3, 'V': 4}\n",
    "df_accident['Accident Level'] = df_accident['Accident Level'].map(replace_struc)\n",
    "replace_struc = {'I': 0, 'II': 1, 'III': 2, 'IV': 3, 'V': 4, 'VI': 5}\n",
    "df_accident['Potential Accident Level'] = df_accident['Potential Accident Level'].map(replace_struc)\n",
    "del replace_struc\n"
   ]
  },
  {
   "cell_type": "code",
   "execution_count": null,
   "metadata": {},
   "outputs": [],
   "source": []
  },
  {
   "cell_type": "code",
   "execution_count": 7,
   "metadata": {},
   "outputs": [
    {
     "data": {
      "text/html": [
       "<div>\n",
       "<style scoped>\n",
       "    .dataframe tbody tr th:only-of-type {\n",
       "        vertical-align: middle;\n",
       "    }\n",
       "\n",
       "    .dataframe tbody tr th {\n",
       "        vertical-align: top;\n",
       "    }\n",
       "\n",
       "    .dataframe thead th {\n",
       "        text-align: right;\n",
       "    }\n",
       "</style>\n",
       "<table border=\"1\" class=\"dataframe\">\n",
       "  <thead>\n",
       "    <tr style=\"text-align: right;\">\n",
       "      <th></th>\n",
       "      <th>Date</th>\n",
       "      <th>Country</th>\n",
       "      <th>Local</th>\n",
       "      <th>Industry Sector</th>\n",
       "      <th>Accident Level</th>\n",
       "      <th>Potential Accident Level</th>\n",
       "      <th>Gender</th>\n",
       "      <th>Employee type</th>\n",
       "      <th>Critical Risk</th>\n",
       "      <th>Description</th>\n",
       "    </tr>\n",
       "  </thead>\n",
       "  <tbody>\n",
       "    <tr>\n",
       "      <th>0</th>\n",
       "      <td>2016-01-01 00:00:00</td>\n",
       "      <td>Country_01</td>\n",
       "      <td>1</td>\n",
       "      <td>Mining</td>\n",
       "      <td>0</td>\n",
       "      <td>3</td>\n",
       "      <td>Male</td>\n",
       "      <td>Third Party</td>\n",
       "      <td>Pressed</td>\n",
       "      <td>While removing the drill rod of the Jumbo 08 f...</td>\n",
       "    </tr>\n",
       "    <tr>\n",
       "      <th>1</th>\n",
       "      <td>2016-01-02 00:00:00</td>\n",
       "      <td>Country_02</td>\n",
       "      <td>2</td>\n",
       "      <td>Mining</td>\n",
       "      <td>0</td>\n",
       "      <td>3</td>\n",
       "      <td>Male</td>\n",
       "      <td>Employee</td>\n",
       "      <td>Pressurized Systems</td>\n",
       "      <td>During the activation of a sodium sulphide pum...</td>\n",
       "    </tr>\n",
       "    <tr>\n",
       "      <th>2</th>\n",
       "      <td>2016-01-06 00:00:00</td>\n",
       "      <td>Country_01</td>\n",
       "      <td>3</td>\n",
       "      <td>Mining</td>\n",
       "      <td>0</td>\n",
       "      <td>2</td>\n",
       "      <td>Male</td>\n",
       "      <td>Third Party (Remote)</td>\n",
       "      <td>Manual Tools</td>\n",
       "      <td>In the sub-station MILPO located at level +170...</td>\n",
       "    </tr>\n",
       "    <tr>\n",
       "      <th>3</th>\n",
       "      <td>2016-01-08 00:00:00</td>\n",
       "      <td>Country_01</td>\n",
       "      <td>4</td>\n",
       "      <td>Mining</td>\n",
       "      <td>0</td>\n",
       "      <td>0</td>\n",
       "      <td>Male</td>\n",
       "      <td>Third Party</td>\n",
       "      <td>Others</td>\n",
       "      <td>Being 9:45 am. approximately in the Nv. 1880 C...</td>\n",
       "    </tr>\n",
       "    <tr>\n",
       "      <th>4</th>\n",
       "      <td>2016-01-10 00:00:00</td>\n",
       "      <td>Country_01</td>\n",
       "      <td>4</td>\n",
       "      <td>Mining</td>\n",
       "      <td>3</td>\n",
       "      <td>3</td>\n",
       "      <td>Male</td>\n",
       "      <td>Third Party</td>\n",
       "      <td>Others</td>\n",
       "      <td>Approximately at 11:45 a.m. in circumstances t...</td>\n",
       "    </tr>\n",
       "  </tbody>\n",
       "</table>\n",
       "</div>"
      ],
      "text/plain": [
       "                  Date     Country  Local Industry Sector  Accident Level  \\\n",
       "0  2016-01-01 00:00:00  Country_01      1          Mining               0   \n",
       "1  2016-01-02 00:00:00  Country_02      2          Mining               0   \n",
       "2  2016-01-06 00:00:00  Country_01      3          Mining               0   \n",
       "3  2016-01-08 00:00:00  Country_01      4          Mining               0   \n",
       "4  2016-01-10 00:00:00  Country_01      4          Mining               3   \n",
       "\n",
       "   Potential Accident Level Gender         Employee type        Critical Risk  \\\n",
       "0                         3   Male           Third Party              Pressed   \n",
       "1                         3   Male              Employee  Pressurized Systems   \n",
       "2                         2   Male  Third Party (Remote)         Manual Tools   \n",
       "3                         0   Male           Third Party               Others   \n",
       "4                         3   Male           Third Party               Others   \n",
       "\n",
       "                                         Description  \n",
       "0  While removing the drill rod of the Jumbo 08 f...  \n",
       "1  During the activation of a sodium sulphide pum...  \n",
       "2  In the sub-station MILPO located at level +170...  \n",
       "3  Being 9:45 am. approximately in the Nv. 1880 C...  \n",
       "4  Approximately at 11:45 a.m. in circumstances t...  "
      ]
     },
     "execution_count": 7,
     "metadata": {},
     "output_type": "execute_result"
    }
   ],
   "source": [
    "df_accident.head()\n"
   ]
  },
  {
   "cell_type": "code",
   "execution_count": 8,
   "metadata": {},
   "outputs": [
    {
     "data": {
      "text/plain": [
       "Date                        0\n",
       "Country                     0\n",
       "Local                       0\n",
       "Industry Sector             0\n",
       "Accident Level              0\n",
       "Potential Accident Level    0\n",
       "Gender                      0\n",
       "Employee type               0\n",
       "Critical Risk               0\n",
       "Description                 0\n",
       "dtype: int64"
      ]
     },
     "execution_count": 8,
     "metadata": {},
     "output_type": "execute_result"
    }
   ],
   "source": [
    "df_accident.isnull().sum()\n"
   ]
  },
  {
   "cell_type": "code",
   "execution_count": 9,
   "metadata": {},
   "outputs": [
    {
     "data": {
      "text/html": [
       "<div>\n",
       "<style scoped>\n",
       "    .dataframe tbody tr th:only-of-type {\n",
       "        vertical-align: middle;\n",
       "    }\n",
       "\n",
       "    .dataframe tbody tr th {\n",
       "        vertical-align: top;\n",
       "    }\n",
       "\n",
       "    .dataframe thead th {\n",
       "        text-align: right;\n",
       "    }\n",
       "</style>\n",
       "<table border=\"1\" class=\"dataframe\">\n",
       "  <thead>\n",
       "    <tr style=\"text-align: right;\">\n",
       "      <th></th>\n",
       "      <th>Date</th>\n",
       "      <th>Country</th>\n",
       "      <th>Local</th>\n",
       "      <th>Industry Sector</th>\n",
       "      <th>Accident Level</th>\n",
       "      <th>Potential Accident Level</th>\n",
       "      <th>Gender</th>\n",
       "      <th>Employee type</th>\n",
       "      <th>Critical Risk</th>\n",
       "      <th>Description</th>\n",
       "      <th>Year</th>\n",
       "      <th>Month</th>\n",
       "      <th>Weekday</th>\n",
       "    </tr>\n",
       "  </thead>\n",
       "  <tbody>\n",
       "    <tr>\n",
       "      <th>0</th>\n",
       "      <td>2016-01-01</td>\n",
       "      <td>Country_01</td>\n",
       "      <td>1</td>\n",
       "      <td>Mining</td>\n",
       "      <td>0</td>\n",
       "      <td>3</td>\n",
       "      <td>Male</td>\n",
       "      <td>Third Party</td>\n",
       "      <td>Pressed</td>\n",
       "      <td>While removing the drill rod of the Jumbo 08 f...</td>\n",
       "      <td>2016</td>\n",
       "      <td>1</td>\n",
       "      <td>Friday</td>\n",
       "    </tr>\n",
       "    <tr>\n",
       "      <th>1</th>\n",
       "      <td>2016-01-02</td>\n",
       "      <td>Country_02</td>\n",
       "      <td>2</td>\n",
       "      <td>Mining</td>\n",
       "      <td>0</td>\n",
       "      <td>3</td>\n",
       "      <td>Male</td>\n",
       "      <td>Employee</td>\n",
       "      <td>Pressurized Systems</td>\n",
       "      <td>During the activation of a sodium sulphide pum...</td>\n",
       "      <td>2016</td>\n",
       "      <td>1</td>\n",
       "      <td>Saturday</td>\n",
       "    </tr>\n",
       "    <tr>\n",
       "      <th>2</th>\n",
       "      <td>2016-01-06</td>\n",
       "      <td>Country_01</td>\n",
       "      <td>3</td>\n",
       "      <td>Mining</td>\n",
       "      <td>0</td>\n",
       "      <td>2</td>\n",
       "      <td>Male</td>\n",
       "      <td>Third Party (Remote)</td>\n",
       "      <td>Manual Tools</td>\n",
       "      <td>In the sub-station MILPO located at level +170...</td>\n",
       "      <td>2016</td>\n",
       "      <td>1</td>\n",
       "      <td>Wednesday</td>\n",
       "    </tr>\n",
       "    <tr>\n",
       "      <th>3</th>\n",
       "      <td>2016-01-08</td>\n",
       "      <td>Country_01</td>\n",
       "      <td>4</td>\n",
       "      <td>Mining</td>\n",
       "      <td>0</td>\n",
       "      <td>0</td>\n",
       "      <td>Male</td>\n",
       "      <td>Third Party</td>\n",
       "      <td>Others</td>\n",
       "      <td>Being 9:45 am. approximately in the Nv. 1880 C...</td>\n",
       "      <td>2016</td>\n",
       "      <td>1</td>\n",
       "      <td>Friday</td>\n",
       "    </tr>\n",
       "    <tr>\n",
       "      <th>4</th>\n",
       "      <td>2016-01-10</td>\n",
       "      <td>Country_01</td>\n",
       "      <td>4</td>\n",
       "      <td>Mining</td>\n",
       "      <td>3</td>\n",
       "      <td>3</td>\n",
       "      <td>Male</td>\n",
       "      <td>Third Party</td>\n",
       "      <td>Others</td>\n",
       "      <td>Approximately at 11:45 a.m. in circumstances t...</td>\n",
       "      <td>2016</td>\n",
       "      <td>1</td>\n",
       "      <td>Sunday</td>\n",
       "    </tr>\n",
       "  </tbody>\n",
       "</table>\n",
       "</div>"
      ],
      "text/plain": [
       "        Date     Country  Local Industry Sector  Accident Level  \\\n",
       "0 2016-01-01  Country_01      1          Mining               0   \n",
       "1 2016-01-02  Country_02      2          Mining               0   \n",
       "2 2016-01-06  Country_01      3          Mining               0   \n",
       "3 2016-01-08  Country_01      4          Mining               0   \n",
       "4 2016-01-10  Country_01      4          Mining               3   \n",
       "\n",
       "   Potential Accident Level Gender         Employee type        Critical Risk  \\\n",
       "0                         3   Male           Third Party              Pressed   \n",
       "1                         3   Male              Employee  Pressurized Systems   \n",
       "2                         2   Male  Third Party (Remote)         Manual Tools   \n",
       "3                         0   Male           Third Party               Others   \n",
       "4                         3   Male           Third Party               Others   \n",
       "\n",
       "                                         Description  Year  Month    Weekday  \n",
       "0  While removing the drill rod of the Jumbo 08 f...  2016      1     Friday  \n",
       "1  During the activation of a sodium sulphide pum...  2016      1   Saturday  \n",
       "2  In the sub-station MILPO located at level +170...  2016      1  Wednesday  \n",
       "3  Being 9:45 am. approximately in the Nv. 1880 C...  2016      1     Friday  \n",
       "4  Approximately at 11:45 a.m. in circumstances t...  2016      1     Sunday  "
      ]
     },
     "execution_count": 9,
     "metadata": {},
     "output_type": "execute_result"
    }
   ],
   "source": [
    "df_accident['Date'] = pd.to_datetime(df_accident['Date'])\n",
    "df_accident['Year'] = df_accident['Date'].apply(lambda x : x.year)\n",
    "df_accident['Month'] = df_accident['Date'].apply(lambda x : x.month)\n",
    "\n",
    "df_accident['Weekday'] = df_accident['Date'].apply(lambda x : x.day_name())\n",
    "df_accident.head()\n"
   ]
  },
  {
   "cell_type": "code",
   "execution_count": 10,
   "metadata": {},
   "outputs": [
    {
     "data": {
      "image/png": "[encoded data removed]",
      "text/plain": [
       "<Figure size 1440x360 with 2 Axes>"
      ]
     },
     "metadata": {
      "needs_background": "light"
     },
     "output_type": "display_data"
    }
   ],
   "source": [
    "fig,ax = plt.subplots(nrows=1,ncols=2,figsize=(20,5))\n",
    "acc_level = \"Accident Level\"\n",
    "df_accident[acc_level].reset_index().groupby(acc_level).count().plot(kind=\"bar\", legend=False, \n",
    "        ax=ax[0]).grid(axis='y')\n",
    "\n",
    "pot_acc_level = \"Potential Accident Level\"\n",
    "df_accident[pot_acc_level].reset_index().groupby(pot_acc_level).count().plot(kind=\"bar\", legend=False, \n",
    "        ax=ax[1]).grid(axis='y')\n",
    "\n",
    "\n",
    "plt.show()\n"
   ]
  },
  {
   "cell_type": "code",
   "execution_count": 11,
   "metadata": {},
   "outputs": [
    {
     "data": {
      "image/png": "[encoded data removed]",
      "text/plain": [
       "<Figure size 360x360 with 1 Axes>"
      ]
     },
     "metadata": {
      "needs_background": "light"
     },
     "output_type": "display_data"
    },
    {
     "data": {
      "image/png": "[encoded data removed]",
      "text/plain": [
       "<Figure size 504x720 with 1 Axes>"
      ]
     },
     "metadata": {},
     "output_type": "display_data"
    }
   ],
   "source": [
    "plt.figure(figsize=(5,5))\n",
    "sns.countplot(x=df_accident['Country'],order=df_accident['Country'].value_counts().index)\n",
    "plt.xlabel(\"\\nCountries\")\n",
    "\n",
    "plt.figure(figsize=(7,10))\n",
    "plt.pie(df_accident['Country'].value_counts(), labels=['Country_01','Country_02','Country_03'], explode=(0.1,0.08,0),autopct = '%1.2f%%');\n"
   ]
  },
  {
   "cell_type": "code",
   "execution_count": 12,
   "metadata": {},
   "outputs": [
    {
     "data": {
      "image/png": "[encoded data removed]",
      "text/plain": [
       "<Figure size 1080x360 with 1 Axes>"
      ]
     },
     "metadata": {
      "needs_background": "light"
     },
     "output_type": "display_data"
    },
    {
     "data": {
      "image/png": "[encoded data removed]",
      "text/plain": [
       "<Figure size 720x720 with 1 Axes>"
      ]
     },
     "metadata": {},
     "output_type": "display_data"
    }
   ],
   "source": [
    "plt.figure(figsize=(15,5))\n",
    "sns.countplot(x=df_accident['Local'])\n",
    "plt.xlabel(\"\\nLocals\")\n",
    "\n",
    "plt.figure(figsize=(10,10))\n",
    "plt.pie(df_accident['Local'].value_counts(), labels=['Local_03','Local_05','Local_01','Local_04','Local_06','Local_10',\n",
    "                                                'Local_08','Local_02','Local_07','Local_12','Local_11','Local_09'], \n",
    "                                                  explode=(0,0,0,0,0,0,0,0,0,0,0.4,0),autopct = '%1.2f%%')\n",
    "plt.show()\n"
   ]
  },
  {
   "cell_type": "markdown",
   "metadata": {},
   "source": [
    "### Pre Processing NLP"
   ]
  },
  {
   "cell_type": "code",
   "execution_count": 13,
   "metadata": {},
   "outputs": [],
   "source": [
    "# Spellchecking, punctuation, URLs, Acronyms, remove the numbers, very rare words "
   ]
  },
  {
   "cell_type": "code",
   "execution_count": 14,
   "metadata": {},
   "outputs": [],
   "source": [
    "def lemmatizer(text):     \n",
    "    lem=WordNetLemmatizer()\n",
    "    sentence = [lem.lemmatize(word) for word in word_tokenize(text)]\n",
    "    return \" \".join(sentence)"
   ]
  },
  {
   "cell_type": "code",
   "execution_count": 15,
   "metadata": {},
   "outputs": [],
   "source": [
    "import re\n",
    "def cleandata(text):\n",
    "    text = text.lower()\n",
    "    text = re.sub(\"[\\(\\[].*?[\\)\\]]\", \"\", text) # removing the punctuation\n",
    "    text = re.sub(r'[^\\w\\s]', '', text) # remove the numbers\n",
    "    text = re.sub('[^a-zA-Z]', ' ', text) \n",
    "    \n",
    "    return text"
   ]
  },
  {
   "cell_type": "code",
   "execution_count": 16,
   "metadata": {},
   "outputs": [
    {
     "name": "stderr",
     "output_type": "stream",
     "text": [
      "[nltk_data] Downloading package punkt to /Users/hariram/nltk_data...\n",
      "[nltk_data]   Package punkt is already up-to-date!\n",
      "[nltk_data] Downloading package wordnet to /Users/hariram/nltk_data...\n",
      "[nltk_data]   Package wordnet is already up-to-date!\n"
     ]
    }
   ],
   "source": [
    "from nltk.corpus import stopwords\n",
    "from nltk.stem import WordNetLemmatizer,PorterStemmer\n",
    "from nltk.tokenize import word_tokenize\n",
    "from wordcloud import WordCloud\n",
    "from sklearn.metrics import accuracy_score\n",
    "\n",
    "import nltk\n",
    "nltk.download('punkt')\n",
    "nltk.download('wordnet')\n",
    "import string\n",
    "\n",
    "def preprocess_text(text):\n",
    "    corpus=[]\n",
    "    sentence = cleandata(text)\n",
    "    sentence = lemmatizer(sentence)\n",
    "    corpus.append(sentence)    \n",
    "    return corpus[0]     \n",
    "      "
   ]
  },
  {
   "cell_type": "code",
   "execution_count": 17,
   "metadata": {},
   "outputs": [
    {
     "name": "stdout",
     "output_type": "stream",
     "text": [
      "When performing cleaning activity of the area near the 042-TC-06 - Grinding the employee was handling a block of triangular shaped rock measuring (b = 53cm x h = 42cm x e = 12cm). During the movement, he lost his balance by falling with the rock on the thumb of his left hand, injuring him.\n",
      "\n",
      "when performing cleaning activity of the area near the    tc    grinding the employee was handling a block of triangular shaped rock measuring  during the movement he lost his balance by falling with the rock on the thumb of his left hand injuring him\n",
      "\n",
      "when performing cleaning activity of the area near the tc grinding the employee wa handling a block of triangular shaped rock measuring during the movement he lost his balance by falling with the rock on the thumb of his left hand injuring him\n",
      "\n"
     ]
    }
   ],
   "source": [
    "text = \"When performing cleaning activity of the area near the 042-TC-06 - Grinding the employee was handling a block of triangular shaped rock measuring (b = 53cm x h = 42cm x e = 12cm). During the movement, he lost his balance by falling with the rock on the thumb of his left hand, injuring him.\"\n",
    "print(text)\n",
    "print()\n",
    "text = cleandata(text)\n",
    "print(text)\n",
    "print()\n",
    "text= lemmatizer(text)\n",
    "print(text)\n",
    "print()"
   ]
  },
  {
   "cell_type": "code",
   "execution_count": null,
   "metadata": {},
   "outputs": [],
   "source": []
  },
  {
   "cell_type": "code",
   "execution_count": 18,
   "metadata": {},
   "outputs": [
    {
     "data": {
      "text/plain": [
       "'when performing cleaning activity of the area near the tc grinding the employee wa handling a block of triangular shaped rock measuring during the movement he lost his balance by falling with the rock on the thumb of his left hand injuring him'"
      ]
     },
     "execution_count": 18,
     "metadata": {},
     "output_type": "execute_result"
    }
   ],
   "source": [
    "preprocess_text(\"When performing cleaning activity of the area near the 042-TC-06 - Grinding the employee was handling a block of triangular shaped rock measuring (b = 53cm x h = 42cm x e = 12cm). During the movement, he lost his balance by falling with the rock on the thumb of his left hand, injuring him.\")"
   ]
  },
  {
   "cell_type": "markdown",
   "metadata": {},
   "source": [
    "#### pre-process each description"
   ]
  },
  {
   "cell_type": "code",
   "execution_count": 19,
   "metadata": {},
   "outputs": [],
   "source": [
    "df_accident['processed_text'] =  [preprocess_text(sentence) for sentence in df_accident['Description']]"
   ]
  },
  {
   "cell_type": "code",
   "execution_count": 20,
   "metadata": {},
   "outputs": [],
   "source": [
    "df_accident['processed_critical_text']  = df_accident['processed_text'] + \" \" +df_accident[\"Critical Risk\"].apply(lambda x: cleandata(x))"
   ]
  },
  {
   "cell_type": "code",
   "execution_count": 21,
   "metadata": {},
   "outputs": [
    {
     "data": {
      "text/plain": [
       "'while removing the drill rod of the jumbo for maintenance the supervisor proceeds to loosen the support of the intermediate centralizer to facilitate the removal seeing this the mechanic support one end on the drill of the equipment to pull with both hand the bar and accelerate the removal from this at this moment the bar slide from it point of support and tightens the finger of the mechanic between the drilling bar and the beam of the jumbo'"
      ]
     },
     "execution_count": 21,
     "metadata": {},
     "output_type": "execute_result"
    }
   ],
   "source": [
    "df_accident['processed_text'][0]"
   ]
  },
  {
   "cell_type": "code",
   "execution_count": 22,
   "metadata": {},
   "outputs": [
    {
     "data": {
      "text/plain": [
       "'while removing the drill rod of the jumbo for maintenance the supervisor proceeds to loosen the support of the intermediate centralizer to facilitate the removal seeing this the mechanic support one end on the drill of the equipment to pull with both hand the bar and accelerate the removal from this at this moment the bar slide from it point of support and tightens the finger of the mechanic between the drilling bar and the beam of the jumbo pressed'"
      ]
     },
     "execution_count": 22,
     "metadata": {},
     "output_type": "execute_result"
    }
   ],
   "source": [
    "df_accident['processed_critical_text'][0]"
   ]
  },
  {
   "cell_type": "code",
   "execution_count": 23,
   "metadata": {},
   "outputs": [],
   "source": [
    "# need to change this to find the number of words not characters\n",
    "padding_length = [(len(sentence.split())) for sentence in df_accident['processed_critical_text']]"
   ]
  },
  {
   "cell_type": "code",
   "execution_count": 24,
   "metadata": {},
   "outputs": [
    {
     "data": {
      "text/plain": [
       "181"
      ]
     },
     "execution_count": 24,
     "metadata": {},
     "output_type": "execute_result"
    }
   ],
   "source": [
    "max(padding_length)"
   ]
  },
  {
   "cell_type": "code",
   "execution_count": 25,
   "metadata": {},
   "outputs": [
    {
     "data": {
      "image/png": "[encoded data removed]",
      "text/plain": [
       "<Figure size 432x288 with 1 Axes>"
      ]
     },
     "metadata": {
      "needs_background": "light"
     },
     "output_type": "display_data"
    }
   ],
   "source": [
    "df_accident['Description'].str.len().hist();\n"
   ]
  },
  {
   "cell_type": "code",
   "execution_count": 26,
   "metadata": {},
   "outputs": [
    {
     "data": {
      "image/png": "[encoded data removed]",
      "text/plain": [
       "<Figure size 432x288 with 1 Axes>"
      ]
     },
     "metadata": {
      "needs_background": "light"
     },
     "output_type": "display_data"
    }
   ],
   "source": [
    "df_accident['processed_text'].str.len().hist();\n"
   ]
  },
  {
   "cell_type": "code",
   "execution_count": 27,
   "metadata": {},
   "outputs": [
    {
     "data": {
      "image/png": "[encoded data removed]",
      "text/plain": [
       "<Figure size 432x288 with 1 Axes>"
      ]
     },
     "metadata": {
      "needs_background": "light"
     },
     "output_type": "display_data"
    }
   ],
   "source": [
    "df_accident['processed_critical_text'].str.len().hist();\n"
   ]
  },
  {
   "cell_type": "code",
   "execution_count": 28,
   "metadata": {},
   "outputs": [
    {
     "data": {
      "image/png": "[encoded data removed]",
      "text/plain": [
       "<Figure size 864x864 with 1 Axes>"
      ]
     },
     "metadata": {
      "needs_background": "light"
     },
     "output_type": "display_data"
    }
   ],
   "source": [
    "wordcloud = WordCloud(\n",
    "        background_color='white',\n",
    "        stopwords=set(STOPWORDS),\n",
    "        max_words=100,\n",
    "        max_font_size=30, \n",
    "        scale=3,\n",
    "        random_state=1)\n",
    "desc = df_accident['processed_critical_text']\n",
    "wordcloud=wordcloud.generate(str(desc))\n",
    "\n",
    "fig = plt.figure(1, figsize=(12, 12)) \n",
    "plt.axis('off')\n",
    " \n",
    "plt.imshow(wordcloud)\n",
    "plt.show()"
   ]
  },
  {
   "cell_type": "code",
   "execution_count": 29,
   "metadata": {},
   "outputs": [],
   "source": [
    "from sklearn.model_selection import train_test_split\n",
    "from sklearn.feature_extraction.text import CountVectorizer\n",
    "\n",
    "X = df_accident['processed_critical_text']\n",
    "y = df_accident['Accident Level']\n"
   ]
  },
  {
   "cell_type": "code",
   "execution_count": 30,
   "metadata": {},
   "outputs": [
    {
     "name": "stdout",
     "output_type": "stream",
     "text": [
      "Requirement already satisfied: wrapt in /Users/hariram/opt/anaconda3/lib/python3.8/site-packages (1.13.3)\n",
      "Requirement already satisfied: monotonic in /Users/hariram/opt/anaconda3/lib/python3.8/site-packages (1.6)\n",
      "Requirement already satisfied: netifaces in /Users/hariram/opt/anaconda3/lib/python3.8/site-packages (0.11.0)\n"
     ]
    }
   ],
   "source": [
    "!pip install wrapt\n",
    "!pip install monotonic\n",
    "!pip install netifaces\n"
   ]
  },
  {
   "cell_type": "code",
   "execution_count": 31,
   "metadata": {},
   "outputs": [],
   "source": [
    "\n",
    "from tensorflow.keras.layers import Dense, LSTM, Embedding, Dropout, Flatten, Bidirectional, GlobalMaxPool1D\n",
    "from tensorflow.keras.callbacks import EarlyStopping, ModelCheckpoint, ReduceLROnPlateau, TensorBoard\n",
    "from tensorflow.keras.preprocessing.sequence import pad_sequences\n",
    "from tensorflow.keras.preprocessing.text import Tokenizer\n",
    "from tensorflow.keras.models import Model, Sequential\n",
    "from tensorflow.keras.initializers import Constant\n",
    "from sklearn.metrics import confusion_matrix, classification_report\n"
   ]
  },
  {
   "cell_type": "code",
   "execution_count": 32,
   "metadata": {},
   "outputs": [],
   "source": [
    "tokenizer = Tokenizer()\n",
    "tokenizer.fit_on_texts(list(df_accident['processed_critical_text']))"
   ]
  },
  {
   "cell_type": "code",
   "execution_count": 33,
   "metadata": {},
   "outputs": [],
   "source": [
    "Xw = tokenizer.texts_to_sequences(df_accident['processed_critical_text'])\n",
    "Xw = pad_sequences(Xw, maxlen = max(padding_length))\n",
    "yw = y\n",
    "\n"
   ]
  },
  {
   "cell_type": "code",
   "execution_count": 34,
   "metadata": {},
   "outputs": [],
   "source": [
    "\n",
    "w2i = tokenizer.word_index\n",
    "vocab_size = len(w2i) + 1"
   ]
  },
  {
   "cell_type": "code",
   "execution_count": 35,
   "metadata": {},
   "outputs": [
    {
     "data": {
      "text/plain": [
       "2890"
      ]
     },
     "execution_count": 35,
     "metadata": {},
     "output_type": "execute_result"
    }
   ],
   "source": [
    "embedding_size = 200\n",
    "vocab_size"
   ]
  },
  {
   "cell_type": "code",
   "execution_count": 36,
   "metadata": {},
   "outputs": [],
   "source": [
    "  \n",
    "EMBEDDING_FILE = 'glove.6B.200d.txt'\n",
    "\n",
    "embeddings = {}\n",
    "for o in open(EMBEDDING_FILE):\n",
    "    word = o.split(' ')[0]\n",
    "    embd = o.split(' ')[1:]\n",
    "    embd = np.asarray(embd, dtype = 'float32')\n",
    "    embeddings[word] = embd"
   ]
  },
  {
   "cell_type": "code",
   "execution_count": 37,
   "metadata": {},
   "outputs": [
    {
     "data": {
      "text/plain": [
       "2890"
      ]
     },
     "execution_count": 37,
     "metadata": {},
     "output_type": "execute_result"
    }
   ],
   "source": [
    "embedding_matrix = np.zeros((vocab_size, embedding_size))\n",
    "for word, i in tokenizer.word_index.items():\n",
    "    if i > vocab_size: continue\n",
    "    embedding_vector = embeddings.get(word)\n",
    "    if embedding_vector is not None:\n",
    "        embedding_matrix[i] = embedding_vector\n",
    "\n",
    "len(embedding_matrix)"
   ]
  },
  {
   "cell_type": "code",
   "execution_count": 38,
   "metadata": {},
   "outputs": [],
   "source": [
    "Xw_train, Xw_test, yw_train, yw_test = train_test_split(Xw, yw, test_size = 0.2, random_state = 42, shuffle = True)\n"
   ]
  },
  {
   "cell_type": "code",
   "execution_count": 39,
   "metadata": {},
   "outputs": [
    {
     "name": "stderr",
     "output_type": "stream",
     "text": [
      "2022-01-29 09:54:12.087732: I tensorflow/core/platform/cpu_feature_guard.cc:142] This TensorFlow binary is optimized with oneAPI Deep Neural Network Library (oneDNN) to use the following CPU instructions in performance-critical operations:  AVX2 FMA\n",
      "To enable them in other operations, rebuild TensorFlow with the appropriate compiler flags.\n"
     ]
    }
   ],
   "source": [
    "model = Sequential()\n",
    "model.add(Embedding(vocab_size, embedding_size, embeddings_initializer = Constant(embedding_matrix), input_length = max(padding_length), trainable = False))\n",
    "model.add(Bidirectional(LSTM(64, return_sequences = True)))\n",
    "model.add(GlobalMaxPool1D())\n",
    "model.add(Dropout(0.5, input_shape = (256,)))\n",
    "model.add(Dense(128, activation = 'relu'))\n",
    "model.add(Dropout(0.5, input_shape = (128,)))\n",
    "model.add(Dense(64, activation = 'relu'))\n",
    "model.add(Dropout(0.5, input_shape = (64,)))\n",
    "model.add(Dense(5, activation = 'softmax'))\n",
    "\n",
    "model.compile(loss = 'sparse_categorical_crossentropy', optimizer = 'adam', metrics = ['accuracy'])"
   ]
  },
  {
   "cell_type": "code",
   "execution_count": 40,
   "metadata": {},
   "outputs": [
    {
     "name": "stdout",
     "output_type": "stream",
     "text": [
      "Model: \"sequential\"\n",
      "_________________________________________________________________\n",
      "Layer (type)                 Output Shape              Param #   \n",
      "=================================================================\n",
      "embedding (Embedding)        (None, 181, 200)          578000    \n",
      "_________________________________________________________________\n",
      "bidirectional (Bidirectional (None, 181, 128)          135680    \n",
      "_________________________________________________________________\n",
      "global_max_pooling1d (Global (None, 128)               0         \n",
      "_________________________________________________________________\n",
      "dropout (Dropout)            (None, 128)               0         \n",
      "_________________________________________________________________\n",
      "dense (Dense)                (None, 128)               16512     \n",
      "_________________________________________________________________\n",
      "dropout_1 (Dropout)          (None, 128)               0         \n",
      "_________________________________________________________________\n",
      "dense_1 (Dense)              (None, 64)                8256      \n",
      "_________________________________________________________________\n",
      "dropout_2 (Dropout)          (None, 64)                0         \n",
      "_________________________________________________________________\n",
      "dense_2 (Dense)              (None, 5)                 325       \n",
      "=================================================================\n",
      "Total params: 738,773\n",
      "Trainable params: 160,773\n",
      "Non-trainable params: 578,000\n",
      "_________________________________________________________________\n"
     ]
    }
   ],
   "source": [
    "model.summary()"
   ]
  },
  {
   "cell_type": "code",
   "execution_count": 41,
   "metadata": {
    "scrolled": false
   },
   "outputs": [
    {
     "name": "stdout",
     "output_type": "stream",
     "text": [
      "Epoch 1/10\n"
     ]
    },
    {
     "name": "stderr",
     "output_type": "stream",
     "text": [
      "2022-01-29 09:54:12.475255: I tensorflow/compiler/mlir/mlir_graph_optimization_pass.cc:185] None of the MLIR Optimization Passes are enabled (registered 2)\n"
     ]
    },
    {
     "name": "stdout",
     "output_type": "stream",
     "text": [
      "10/10 - 3s - loss: 1.5710 - accuracy: 0.3529 - val_loss: 1.0521 - val_accuracy: 0.7647\n",
      "Epoch 2/10\n",
      "10/10 - 1s - loss: 1.1081 - accuracy: 0.6875 - val_loss: 0.8920 - val_accuracy: 0.7647\n",
      "Epoch 3/10\n",
      "10/10 - 1s - loss: 1.1042 - accuracy: 0.7206 - val_loss: 0.9067 - val_accuracy: 0.7647\n",
      "Epoch 4/10\n",
      "10/10 - 1s - loss: 1.0267 - accuracy: 0.7206 - val_loss: 0.8930 - val_accuracy: 0.7647\n",
      "Epoch 5/10\n",
      "10/10 - 1s - loss: 1.0825 - accuracy: 0.7132 - val_loss: 0.9031 - val_accuracy: 0.7647\n",
      "Epoch 6/10\n",
      "10/10 - 1s - loss: 1.0824 - accuracy: 0.7206 - val_loss: 0.9133 - val_accuracy: 0.7647\n",
      "Epoch 7/10\n",
      "10/10 - 1s - loss: 0.9882 - accuracy: 0.7243 - val_loss: 0.9301 - val_accuracy: 0.7647\n",
      "Epoch 8/10\n",
      "10/10 - 1s - loss: 0.9954 - accuracy: 0.7206 - val_loss: 0.8991 - val_accuracy: 0.7647\n",
      "Epoch 9/10\n",
      "10/10 - 1s - loss: 1.0331 - accuracy: 0.7206 - val_loss: 0.8681 - val_accuracy: 0.7647\n",
      "Epoch 10/10\n",
      "10/10 - 1s - loss: 0.9851 - accuracy: 0.7206 - val_loss: 0.8831 - val_accuracy: 0.7647\n"
     ]
    }
   ],
   "source": [
    "batch_size = 30\n",
    "epochs = 10\n",
    "\n",
    "h = model.fit(Xw_train, yw_train, epochs = epochs, validation_split = 0.2, batch_size = batch_size, verbose = 2)\n"
   ]
  },
  {
   "cell_type": "code",
   "execution_count": null,
   "metadata": {},
   "outputs": [],
   "source": []
  },
  {
   "cell_type": "code",
   "execution_count": null,
   "metadata": {},
   "outputs": [],
   "source": []
  },
  {
   "cell_type": "code",
   "execution_count": null,
   "metadata": {},
   "outputs": [],
   "source": []
  },
  {
   "cell_type": "code",
   "execution_count": 42,
   "metadata": {},
   "outputs": [
    {
     "name": "stdout",
     "output_type": "stream",
     "text": [
      "Overall Accuracy: 80.0\n"
     ]
    }
   ],
   "source": [
    "loss, accuracy = model.evaluate(Xw_test, yw_test, verbose = 0)\n",
    "print('Overall Accuracy: {}'.format(round(accuracy * 100, 0)))"
   ]
  },
  {
   "cell_type": "code",
   "execution_count": 43,
   "metadata": {},
   "outputs": [],
   "source": [
    "yw_pred = (model.predict(Xw_test) > 0.5).astype('int32')\n"
   ]
  },
  {
   "cell_type": "markdown",
   "metadata": {},
   "source": [
    "# ML"
   ]
  },
  {
   "cell_type": "code",
   "execution_count": 44,
   "metadata": {},
   "outputs": [],
   "source": [
    "from sklearn.preprocessing import MinMaxScaler\n",
    "from sklearn.model_selection  import train_test_split\n",
    "from sklearn.linear_model import LogisticRegression\n",
    "from sklearn.tree import DecisionTreeClassifier\n",
    "from sklearn.model_selection import GridSearchCV\n",
    "from sklearn.ensemble import RandomForestClassifier\n",
    "from sklearn.naive_bayes import MultinomialNB\n",
    "from sklearn.model_selection import RandomizedSearchCV\n",
    "from sklearn.ensemble import BaggingClassifier\n",
    "from sklearn.ensemble import GradientBoostingClassifier\n",
    "from sklearn import metrics\n",
    "from sklearn.metrics import accuracy_score, confusion_matrix\n",
    "from sklearn.metrics import classification_report\n",
    "from sklearn.metrics import confusion_matrix, precision_recall_curve, auc, roc_auc_score, roc_curve, recall_score, classification_report\n",
    "from sklearn.metrics import precision_score,f1_score\n",
    "from sklearn.metrics import precision_recall_curve\n",
    "from sklearn.metrics import confusion_matrix, precision_recall_curve, auc, roc_auc_score, roc_curve, recall_score, classification_report\n",
    "from sklearn.metrics import precision_score,f1_score\n",
    "from sklearn.metrics import matthews_corrcoef"
   ]
  },
  {
   "cell_type": "code",
   "execution_count": 45,
   "metadata": {},
   "outputs": [],
   "source": [
    "X = df_accident['processed_critical_text']\n",
    "y = df_accident['Accident Level']\n",
    "\n",
    "cnt_vec = CountVectorizer(analyzer='word', ngram_range=(1, 2))\n",
    "Xc = cnt_vec.fit_transform(X).toarray()\n",
    "Xc_train, Xc_test, yc_train, yc_test = train_test_split(Xc, y, test_size=0.2, random_state=42)\n"
   ]
  },
  {
   "cell_type": "code",
   "execution_count": 46,
   "metadata": {},
   "outputs": [],
   "source": [
    "from sklearn.metrics import accuracy_score\n",
    "from sklearn.metrics import confusion_matrix, classification_report\n",
    "from sklearn.svm import LinearSVC"
   ]
  },
  {
   "cell_type": "code",
   "execution_count": 47,
   "metadata": {},
   "outputs": [
    {
     "name": "stdout",
     "output_type": "stream",
     "text": [
      "Requirement already satisfied: xgboost in /Users/hariram/opt/anaconda3/lib/python3.8/site-packages (1.5.2)\r\n",
      "Requirement already satisfied: scipy in /Users/hariram/opt/anaconda3/lib/python3.8/site-packages (from xgboost) (1.7.3)\r\n",
      "Requirement already satisfied: numpy in /Users/hariram/opt/anaconda3/lib/python3.8/site-packages (from xgboost) (1.21.2)\r\n"
     ]
    }
   ],
   "source": [
    "!pip install xgboost"
   ]
  },
  {
   "cell_type": "code",
   "execution_count": 48,
   "metadata": {},
   "outputs": [],
   "source": [
    "from xgboost import XGBClassifier\n",
    "\n",
    "models = {\"RandomForestClassifier\": RandomForestClassifier(random_state=42),\n",
    "           \"GradientBoostingClassifier\": GradientBoostingClassifier(n_estimators=100),\n",
    "           \"LinearSVC\":LinearSVC( max_iter=2500)\n",
    "         }"
   ]
  },
  {
   "cell_type": "code",
   "execution_count": 49,
   "metadata": {},
   "outputs": [],
   "source": [
    "mnames = []\n",
    "mtrain_acc = []\n",
    "mtest_acc = []\n",
    "def eval_and_report():\n",
    "    for modelname, model in models.items():\n",
    "        mnames.append(modelname)\n",
    "        model.fit(Xc_train, yc_train)\n",
    "        yc_pred03 = model.predict(Xc_test)\n",
    "        acc_gbc = accuracy_score(yc_test, yc_pred03)\n",
    "        acc_gbc_tr = model.score(Xc_train,yc_train)\n",
    "        mtrain_acc.append(acc_gbc*100)\n",
    "        mtest_acc.append(acc_gbc_tr*100)\n",
    "    data = {'Name':mnames,'Train accuracy':mtest_acc,'Test Accuracy':mtrain_acc}\n",
    " \n",
    "    # Create DataFrame\n",
    "    df = pd.DataFrame(data)\n",
    "\n",
    "    # Print the output.\n",
    "    print(df)\n",
    "\n"
   ]
  },
  {
   "cell_type": "code",
   "execution_count": 50,
   "metadata": {},
   "outputs": [
    {
     "name": "stdout",
     "output_type": "stream",
     "text": [
      "                         Name  Train accuracy  Test Accuracy\n",
      "0      RandomForestClassifier       99.411765      80.000000\n",
      "1  GradientBoostingClassifier       99.411765      74.117647\n",
      "2                   LinearSVC       99.411765      76.470588\n"
     ]
    },
    {
     "name": "stderr",
     "output_type": "stream",
     "text": [
      "/Users/hariram/opt/anaconda3/lib/python3.8/site-packages/sklearn/svm/_base.py:1206: ConvergenceWarning: Liblinear failed to converge, increase the number of iterations.\n",
      "  warnings.warn(\n"
     ]
    }
   ],
   "source": [
    "eval_and_report()"
   ]
  },
  {
   "cell_type": "code",
   "execution_count": 51,
   "metadata": {},
   "outputs": [],
   "source": [
    "# compare ensemble to each baseline classifier\n",
    "from numpy import mean\n",
    "from numpy import std\n",
    "from sklearn.datasets import make_classification\n",
    "from sklearn.model_selection import cross_val_score\n",
    "from sklearn.model_selection import RepeatedStratifiedKFold\n",
    "from sklearn.linear_model import LogisticRegression\n",
    "from sklearn.neighbors import KNeighborsClassifier\n",
    "from sklearn.tree import DecisionTreeClassifier\n",
    "from sklearn.svm import SVC\n",
    "from sklearn.naive_bayes import GaussianNB\n",
    "from sklearn.ensemble import StackingClassifier\n",
    "from matplotlib import pyplot\n",
    "\n"
   ]
  },
  {
   "cell_type": "code",
   "execution_count": 57,
   "metadata": {},
   "outputs": [],
   "source": [
    "# get a stacking ensemble of models\n",
    "def get_stacking():\n",
    "    # define the base models\n",
    "    level0 = list()\n",
    "    level0.append(('lr', LogisticRegression(max_iter=10000)))\n",
    "    level0.append(('knn', KNeighborsClassifier()))\n",
    "    level0.append(('cart', DecisionTreeClassifier()))\n",
    "    level0.append(('svm', SVC()))\n",
    "    level0.append(('bayes', GaussianNB()))\n",
    "    # define meta learner model\n",
    "    level1 = LogisticRegression()\n",
    "    # define the stacking ensemble\n",
    "    model = StackingClassifier(estimators=level0, final_estimator=level1, cv=5)\n",
    "    return model\n"
   ]
  },
  {
   "cell_type": "code",
   "execution_count": 61,
   "metadata": {},
   "outputs": [],
   "source": [
    "\n",
    "# get a list of models to evaluate\n",
    "def get_models():\n",
    "    models = dict()\n",
    "    models['lr'] = LogisticRegression(solver='lbfgs', max_iter=500)\n",
    "    models['knn'] = KNeighborsClassifier()\n",
    "    models['cart'] = DecisionTreeClassifier()\n",
    "    models['svm'] = SVC()\n",
    "    models['bayes'] = GaussianNB()\n",
    "    models['stacking'] = get_stacking()\n",
    "    return models\n"
   ]
  },
  {
   "cell_type": "code",
   "execution_count": 62,
   "metadata": {},
   "outputs": [],
   "source": [
    "\n",
    "# evaluate a give model using cross-validation\n",
    "def evaluate_model(model, X, y):\n",
    "    cv = RepeatedStratifiedKFold(n_splits=5, n_repeats=3, random_state=1)\n",
    "    scores = cross_val_score(model, X, y, scoring='accuracy', cv=cv, n_jobs=-1, error_score='raise')\n",
    "    return scores\n"
   ]
  },
  {
   "cell_type": "code",
   "execution_count": 63,
   "metadata": {},
   "outputs": [],
   "source": [
    "\n",
    "# define dataset\n",
    "X, y = Xc_train , yc_train"
   ]
  },
  {
   "cell_type": "code",
   "execution_count": 64,
   "metadata": {},
   "outputs": [
    {
     "name": "stdout",
     "output_type": "stream",
     "text": [
      ">lr 0.724 (0.011)\n",
      ">knn 0.728 (0.007)\n",
      ">cart 0.637 (0.048)\n",
      ">svm 0.727 (0.009)\n",
      ">bayes 0.722 (0.010)\n",
      ">stacking 0.722 (0.013)\n"
     ]
    },
    {
     "data": {
      "image/png": "[encoded data removed]",
      "text/plain": [
       "<Figure size 432x288 with 1 Axes>"
      ]
     },
     "metadata": {
      "needs_background": "light"
     },
     "output_type": "display_data"
    },
    {
     "name": "stderr",
     "output_type": "stream",
     "text": [
      "/Users/hariram/opt/anaconda3/lib/python3.8/site-packages/sklearn/linear_model/_logistic.py:814: ConvergenceWarning: lbfgs failed to converge (status=1):\n",
      "STOP: TOTAL NO. of ITERATIONS REACHED LIMIT.\n",
      "\n",
      "Increase the number of iterations (max_iter) or scale the data as shown in:\n",
      "    https://scikit-learn.org/stable/modules/preprocessing.html\n",
      "Please also refer to the documentation for alternative solver options:\n",
      "    https://scikit-learn.org/stable/modules/linear_model.html#logistic-regression\n",
      "  n_iter_i = _check_optimize_result(\n",
      "/Users/hariram/opt/anaconda3/lib/python3.8/site-packages/sklearn/model_selection/_split.py:676: UserWarning: The least populated class in y has only 4 members, which is less than n_splits=5.\n",
      "  warnings.warn(\n",
      "/Users/hariram/opt/anaconda3/lib/python3.8/site-packages/sklearn/model_selection/_split.py:676: UserWarning: The least populated class in y has only 4 members, which is less than n_splits=5.\n",
      "  warnings.warn(\n",
      "/Users/hariram/opt/anaconda3/lib/python3.8/site-packages/sklearn/model_selection/_split.py:676: UserWarning: The least populated class in y has only 4 members, which is less than n_splits=5.\n",
      "  warnings.warn(\n",
      "/Users/hariram/opt/anaconda3/lib/python3.8/site-packages/sklearn/model_selection/_split.py:676: UserWarning: The least populated class in y has only 4 members, which is less than n_splits=5.\n",
      "  warnings.warn(\n",
      "/Users/hariram/opt/anaconda3/lib/python3.8/site-packages/sklearn/model_selection/_split.py:676: UserWarning: The least populated class in y has only 4 members, which is less than n_splits=5.\n",
      "  warnings.warn(\n",
      "/Users/hariram/opt/anaconda3/lib/python3.8/site-packages/sklearn/linear_model/_logistic.py:814: ConvergenceWarning: lbfgs failed to converge (status=1):\n",
      "STOP: TOTAL NO. of ITERATIONS REACHED LIMIT.\n",
      "\n",
      "Increase the number of iterations (max_iter) or scale the data as shown in:\n",
      "    https://scikit-learn.org/stable/modules/preprocessing.html\n",
      "Please also refer to the documentation for alternative solver options:\n",
      "    https://scikit-learn.org/stable/modules/linear_model.html#logistic-regression\n",
      "  n_iter_i = _check_optimize_result(\n",
      "/Users/hariram/opt/anaconda3/lib/python3.8/site-packages/sklearn/linear_model/_logistic.py:814: ConvergenceWarning: lbfgs failed to converge (status=1):\n",
      "STOP: TOTAL NO. of ITERATIONS REACHED LIMIT.\n",
      "\n",
      "Increase the number of iterations (max_iter) or scale the data as shown in:\n",
      "    https://scikit-learn.org/stable/modules/preprocessing.html\n",
      "Please also refer to the documentation for alternative solver options:\n",
      "    https://scikit-learn.org/stable/modules/linear_model.html#logistic-regression\n",
      "  n_iter_i = _check_optimize_result(\n",
      "/Users/hariram/opt/anaconda3/lib/python3.8/site-packages/sklearn/linear_model/_logistic.py:814: ConvergenceWarning: lbfgs failed to converge (status=1):\n",
      "STOP: TOTAL NO. of ITERATIONS REACHED LIMIT.\n",
      "\n",
      "Increase the number of iterations (max_iter) or scale the data as shown in:\n",
      "    https://scikit-learn.org/stable/modules/preprocessing.html\n",
      "Please also refer to the documentation for alternative solver options:\n",
      "    https://scikit-learn.org/stable/modules/linear_model.html#logistic-regression\n",
      "  n_iter_i = _check_optimize_result(\n",
      "/Users/hariram/opt/anaconda3/lib/python3.8/site-packages/sklearn/linear_model/_logistic.py:814: ConvergenceWarning: lbfgs failed to converge (status=1):\n",
      "STOP: TOTAL NO. of ITERATIONS REACHED LIMIT.\n",
      "\n",
      "Increase the number of iterations (max_iter) or scale the data as shown in:\n",
      "    https://scikit-learn.org/stable/modules/preprocessing.html\n",
      "Please also refer to the documentation for alternative solver options:\n",
      "    https://scikit-learn.org/stable/modules/linear_model.html#logistic-regression\n",
      "  n_iter_i = _check_optimize_result(\n",
      "/Users/hariram/opt/anaconda3/lib/python3.8/site-packages/sklearn/linear_model/_logistic.py:814: ConvergenceWarning: lbfgs failed to converge (status=1):\n",
      "STOP: TOTAL NO. of ITERATIONS REACHED LIMIT.\n",
      "\n",
      "Increase the number of iterations (max_iter) or scale the data as shown in:\n",
      "    https://scikit-learn.org/stable/modules/preprocessing.html\n",
      "Please also refer to the documentation for alternative solver options:\n",
      "    https://scikit-learn.org/stable/modules/linear_model.html#logistic-regression\n",
      "  n_iter_i = _check_optimize_result(\n",
      "/Users/hariram/opt/anaconda3/lib/python3.8/site-packages/sklearn/linear_model/_logistic.py:814: ConvergenceWarning: lbfgs failed to converge (status=1):\n",
      "STOP: TOTAL NO. of ITERATIONS REACHED LIMIT.\n",
      "\n",
      "Increase the number of iterations (max_iter) or scale the data as shown in:\n",
      "    https://scikit-learn.org/stable/modules/preprocessing.html\n",
      "Please also refer to the documentation for alternative solver options:\n",
      "    https://scikit-learn.org/stable/modules/linear_model.html#logistic-regression\n",
      "  n_iter_i = _check_optimize_result(\n",
      "/Users/hariram/opt/anaconda3/lib/python3.8/site-packages/sklearn/linear_model/_logistic.py:814: ConvergenceWarning: lbfgs failed to converge (status=1):\n",
      "STOP: TOTAL NO. of ITERATIONS REACHED LIMIT.\n",
      "\n",
      "Increase the number of iterations (max_iter) or scale the data as shown in:\n",
      "    https://scikit-learn.org/stable/modules/preprocessing.html\n",
      "Please also refer to the documentation for alternative solver options:\n",
      "    https://scikit-learn.org/stable/modules/linear_model.html#logistic-regression\n",
      "  n_iter_i = _check_optimize_result(\n",
      "/Users/hariram/opt/anaconda3/lib/python3.8/site-packages/sklearn/linear_model/_logistic.py:814: ConvergenceWarning: lbfgs failed to converge (status=1):\n",
      "STOP: TOTAL NO. of ITERATIONS REACHED LIMIT.\n",
      "\n",
      "Increase the number of iterations (max_iter) or scale the data as shown in:\n",
      "    https://scikit-learn.org/stable/modules/preprocessing.html\n",
      "Please also refer to the documentation for alternative solver options:\n",
      "    https://scikit-learn.org/stable/modules/linear_model.html#logistic-regression\n",
      "  n_iter_i = _check_optimize_result(\n",
      "/Users/hariram/opt/anaconda3/lib/python3.8/site-packages/sklearn/model_selection/_split.py:676: UserWarning: The least populated class in y has only 4 members, which is less than n_splits=5.\n",
      "  warnings.warn(\n",
      "/Users/hariram/opt/anaconda3/lib/python3.8/site-packages/sklearn/model_selection/_split.py:676: UserWarning: The least populated class in y has only 4 members, which is less than n_splits=5.\n",
      "  warnings.warn(\n",
      "/Users/hariram/opt/anaconda3/lib/python3.8/site-packages/sklearn/model_selection/_split.py:676: UserWarning: The least populated class in y has only 4 members, which is less than n_splits=5.\n",
      "  warnings.warn(\n",
      "/Users/hariram/opt/anaconda3/lib/python3.8/site-packages/sklearn/model_selection/_split.py:676: UserWarning: The least populated class in y has only 4 members, which is less than n_splits=5.\n",
      "  warnings.warn(\n",
      "/Users/hariram/opt/anaconda3/lib/python3.8/site-packages/sklearn/model_selection/_split.py:676: UserWarning: The least populated class in y has only 4 members, which is less than n_splits=5.\n",
      "  warnings.warn(\n",
      "/Users/hariram/opt/anaconda3/lib/python3.8/site-packages/sklearn/linear_model/_logistic.py:814: ConvergenceWarning: lbfgs failed to converge (status=1):\n",
      "STOP: TOTAL NO. of ITERATIONS REACHED LIMIT.\n",
      "\n",
      "Increase the number of iterations (max_iter) or scale the data as shown in:\n",
      "    https://scikit-learn.org/stable/modules/preprocessing.html\n",
      "Please also refer to the documentation for alternative solver options:\n",
      "    https://scikit-learn.org/stable/modules/linear_model.html#logistic-regression\n",
      "  n_iter_i = _check_optimize_result(\n",
      "/Users/hariram/opt/anaconda3/lib/python3.8/site-packages/sklearn/linear_model/_logistic.py:814: ConvergenceWarning: lbfgs failed to converge (status=1):\n",
      "STOP: TOTAL NO. of ITERATIONS REACHED LIMIT.\n",
      "\n",
      "Increase the number of iterations (max_iter) or scale the data as shown in:\n",
      "    https://scikit-learn.org/stable/modules/preprocessing.html\n",
      "Please also refer to the documentation for alternative solver options:\n",
      "    https://scikit-learn.org/stable/modules/linear_model.html#logistic-regression\n",
      "  n_iter_i = _check_optimize_result(\n",
      "/Users/hariram/opt/anaconda3/lib/python3.8/site-packages/sklearn/linear_model/_logistic.py:814: ConvergenceWarning: lbfgs failed to converge (status=1):\n",
      "STOP: TOTAL NO. of ITERATIONS REACHED LIMIT.\n",
      "\n",
      "Increase the number of iterations (max_iter) or scale the data as shown in:\n",
      "    https://scikit-learn.org/stable/modules/preprocessing.html\n",
      "Please also refer to the documentation for alternative solver options:\n",
      "    https://scikit-learn.org/stable/modules/linear_model.html#logistic-regression\n",
      "  n_iter_i = _check_optimize_result(\n",
      "/Users/hariram/opt/anaconda3/lib/python3.8/site-packages/sklearn/model_selection/_split.py:676: UserWarning: The least populated class in y has only 4 members, which is less than n_splits=5.\n",
      "  warnings.warn(\n",
      "/Users/hariram/opt/anaconda3/lib/python3.8/site-packages/sklearn/model_selection/_split.py:676: UserWarning: The least populated class in y has only 4 members, which is less than n_splits=5.\n",
      "  warnings.warn(\n",
      "/Users/hariram/opt/anaconda3/lib/python3.8/site-packages/sklearn/model_selection/_split.py:676: UserWarning: The least populated class in y has only 4 members, which is less than n_splits=5.\n",
      "  warnings.warn(\n",
      "/Users/hariram/opt/anaconda3/lib/python3.8/site-packages/sklearn/model_selection/_split.py:676: UserWarning: The least populated class in y has only 4 members, which is less than n_splits=5.\n",
      "  warnings.warn(\n",
      "/Users/hariram/opt/anaconda3/lib/python3.8/site-packages/sklearn/model_selection/_split.py:676: UserWarning: The least populated class in y has only 4 members, which is less than n_splits=5.\n",
      "  warnings.warn(\n",
      "/Users/hariram/opt/anaconda3/lib/python3.8/site-packages/sklearn/linear_model/_logistic.py:814: ConvergenceWarning: lbfgs failed to converge (status=1):\n",
      "STOP: TOTAL NO. of ITERATIONS REACHED LIMIT.\n",
      "\n",
      "Increase the number of iterations (max_iter) or scale the data as shown in:\n",
      "    https://scikit-learn.org/stable/modules/preprocessing.html\n",
      "Please also refer to the documentation for alternative solver options:\n",
      "    https://scikit-learn.org/stable/modules/linear_model.html#logistic-regression\n",
      "  n_iter_i = _check_optimize_result(\n",
      "/Users/hariram/opt/anaconda3/lib/python3.8/site-packages/sklearn/linear_model/_logistic.py:814: ConvergenceWarning: lbfgs failed to converge (status=1):\n",
      "STOP: TOTAL NO. of ITERATIONS REACHED LIMIT.\n",
      "\n",
      "Increase the number of iterations (max_iter) or scale the data as shown in:\n",
      "    https://scikit-learn.org/stable/modules/preprocessing.html\n",
      "Please also refer to the documentation for alternative solver options:\n",
      "    https://scikit-learn.org/stable/modules/linear_model.html#logistic-regression\n",
      "  n_iter_i = _check_optimize_result(\n",
      "/Users/hariram/opt/anaconda3/lib/python3.8/site-packages/sklearn/linear_model/_logistic.py:814: ConvergenceWarning: lbfgs failed to converge (status=1):\n",
      "STOP: TOTAL NO. of ITERATIONS REACHED LIMIT.\n",
      "\n",
      "Increase the number of iterations (max_iter) or scale the data as shown in:\n",
      "    https://scikit-learn.org/stable/modules/preprocessing.html\n",
      "Please also refer to the documentation for alternative solver options:\n",
      "    https://scikit-learn.org/stable/modules/linear_model.html#logistic-regression\n",
      "  n_iter_i = _check_optimize_result(\n"
     ]
    }
   ],
   "source": [
    "\n",
    "# get the models to evaluate\n",
    "models = get_models()\n",
    "# evaluate the models and store results\n",
    "results, names = list(), list()\n",
    "for name, model in models.items():\n",
    "    scores = evaluate_model(model, X, y)\n",
    "    results.append(scores)\n",
    "    names.append(name)\n",
    "    print('>%s %.3f (%.3f)' % (name, mean(scores), std(scores)))\n",
    "# plot model performance for comparison\n",
    "pyplot.boxplot(results, labels=names, showmeans=True)\n",
    "pyplot.show()"
   ]
  },
  {
   "cell_type": "code",
   "execution_count": null,
   "metadata": {},
   "outputs": [],
   "source": []
  }
 ],
 "metadata": {
  "kernelspec": {
   "display_name": "Python 3 (ipykernel)",
   "language": "python",
   "name": "python3"
  },
  "language_info": {
   "codemirror_mode": {
    "name": "ipython",
    "version": 3
   },
   "file_extension": ".py",
   "mimetype": "text/x-python",
   "name": "python",
   "nbconvert_exporter": "python",
   "pygments_lexer": "ipython3",
   "version": "3.8.8"
  }
 },
 "nbformat": 4,
 "nbformat_minor": 4
}
